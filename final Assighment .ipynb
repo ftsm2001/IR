{
 "cells": [
  {
   "cell_type": "code",
   "execution_count": 14,
   "id": "752ecd95",
   "metadata": {},
   "outputs": [],
   "source": [
    "import nltk\n",
    "from nltk.tokenize import word_tokenize\n",
    "from nltk.corpus import stopwords\n",
    "from nltk.stem import PorterStemmer\n"
   ]
  },
  {
   "cell_type": "code",
   "execution_count": 15,
   "id": "2b0fa685",
   "metadata": {},
   "outputs": [],
   "source": [
    "def build_inverted_index(documents):\n",
    "    inverted_index = {}\n",
    "    \n",
    "    for doc_id, document in enumerate(documents):\n",
    "        terms = preprocess_document(document)\n",
    "        for term in terms:\n",
    "            if term not in inverted_index:\n",
    "                inverted_index[term] = set()\n",
    "            inverted_index[term].add(doc_id)\n",
    "            \n",
    "    return inverted_index"
   ]
  },
  {
   "cell_type": "code",
   "execution_count": 16,
   "id": "e692047d",
   "metadata": {},
   "outputs": [],
   "source": [
    "import pandas as pd\n",
    "\n",
    "documents_df = pd.read_csv(r'C:\\Users\\ftsms\\Downloads\\docsdata.csv', encoding='utf-8')\n",
    "documents = documents_df['text'].tolist()"
   ]
  },
  {
   "cell_type": "code",
   "execution_count": 17,
   "id": "9300f3e5",
   "metadata": {},
   "outputs": [
    {
     "name": "stdout",
     "output_type": "stream",
     "text": [
      "Matching Document IDs:\n",
      "- Document ID: 7\n",
      "- Document ID: 9\n",
      "- Document ID: 10\n",
      "- Document ID: 14\n",
      "- Document ID: 15\n",
      "- Document ID: 16\n",
      "- Document ID: 17\n"
     ]
    }
   ],
   "source": [
    "def boolean_query_simple(query, documents):\n",
    "    query_terms = preprocess_document(query)\n",
    "    matching_documents = []\n",
    "\n",
    "    for doc_id, document in enumerate(documents):\n",
    "        document_terms = preprocess_document(document)\n",
    "        \n",
    "        # Check if any of the query terms are in the document terms\n",
    "        if any(term in document_terms for term in query_terms):\n",
    "            matching_documents.append(doc_id)\n",
    "\n",
    "    if not matching_documents:\n",
    "        print(\"No documents match the query.\")\n",
    "    else:\n",
    "        print(\"Matching Document IDs:\")\n",
    "        for doc_id in matching_documents:\n",
    "            print(f\"- Document ID: {doc_id}\")\n",
    "\n",
    "\n",
    "query = \"literature\"\n",
    "boolean_query_simple(query, documents)\n"
   ]
  },
  {
   "cell_type": "code",
   "execution_count": 18,
   "id": "bef88e68",
   "metadata": {},
   "outputs": [],
   "source": [
    "def boolean_query_with_frequencies(query, documents):\n",
    "    query_terms = preprocess_document(query)\n",
    "    doc_freq_pairs = []\n",
    "\n",
    "    for doc_id, document in enumerate(documents):\n",
    "        document_terms = preprocess_document(document)\n",
    "        term_count = sum(term in document_terms for term in query_terms)\n",
    "        \n",
    "        if term_count > 0:\n",
    "            doc_freq_pairs.append((doc_id, term_count))\n",
    "\n",
    "    return zip(*doc_freq_pairs)  # Separates doc IDs and frequencies\n",
    "\n",
    "\n",
    "query = \"literature\"\n",
    "doc_ids, frequencies = boolean_query_with_frequencies(query, documents)\n"
   ]
  },
  {
   "cell_type": "code",
   "execution_count": 19,
   "id": "280c2d55",
   "metadata": {},
   "outputs": [
    {
     "data": {
      "image/png": "[encoded data removed]",
      "text/plain": [
       "<Figure size 640x480 with 1 Axes>"
      ]
     },
     "metadata": {},
     "output_type": "display_data"
    }
   ],
   "source": [
    "import matplotlib.pyplot as plt\n",
    "\n",
    "def plot_frequencies(doc_ids, frequencies):\n",
    "    plt.scatter(doc_ids, frequencies)\n",
    "    plt.title(f\"Frequency of '{query}' in Documents\")\n",
    "    plt.xlabel('Document ID')\n",
    "    plt.ylabel('Frequency of Query Term')\n",
    "    plt.show()\n",
    "\n",
    "# Plotting the results\n",
    "plot_frequencies(doc_ids, frequencies)\n"
   ]
  },
  {
   "cell_type": "code",
   "execution_count": null,
   "id": "9c68f719",
   "metadata": {},
   "outputs": [],
   "source": []
  }
 ],
 "metadata": {
  "kernelspec": {
   "display_name": "Python 3 (ipykernel)",
   "language": "python",
   "name": "python3"
  },
  "language_info": {
   "codemirror_mode": {
    "name": "ipython",
    "version": 3
   },
   "file_extension": ".py",
   "mimetype": "text/x-python",
   "name": "python",
   "nbconvert_exporter": "python",
   "pygments_lexer": "ipython3",
   "version": "3.9.16"
  }
 },
 "nbformat": 4,
 "nbformat_minor": 5
}
